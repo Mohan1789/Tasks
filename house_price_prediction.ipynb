{
 "cells": [
  {
   "cell_type": "code",
   "execution_count": null,
   "id": "54ac1831",
   "metadata": {},
   "outputs": [],
   "source": []
  },
  {
   "cell_type": "code",
   "execution_count": 8,
   "id": "3e60f0d9",
   "metadata": {},
   "outputs": [
    {
     "name": "stdout",
     "output_type": "stream",
     "text": [
      "Mean Squared Error: 49058417158.05315\n",
      "Coefficients:  [ 1077558.70923687   662096.77419355   662096.77419355 -1026164.87455197\n",
      "     1254.48028674  1024910.39426523]\n"
     ]
    }
   ],
   "source": [
    "import pandas as pd\n",
    "import numpy as np\n",
    "from sklearn.model_selection import train_test_split\n",
    "from sklearn.preprocessing import StandardScaler, OneHotEncoder\n",
    "from sklearn.compose import ColumnTransformer\n",
    "from sklearn.pipeline import Pipeline\n",
    "from sklearn.linear_model import LinearRegression\n",
    "from sklearn.metrics import mean_squared_error\n",
    "\n",
    "# Load the data\n",
    "data = pd.read_csv('house_prices.csv')\n",
    "\n",
    "# Feature selection\n",
    "X = data[['area', 'bedrooms', 'bathrooms', 'location']]\n",
    "y = data['price']\n",
    "\n",
    "# Splitting the data into training and testing sets\n",
    "X_train, X_test, y_train, y_test = train_test_split(X, y, test_size=0.2, random_state=42)\n",
    "\n",
    "# Preprocessing the data\n",
    "numeric_features = ['area', 'bedrooms', 'bathrooms']\n",
    "categorical_features = ['location']\n",
    "\n",
    "numeric_transformer = Pipeline(steps=[\n",
    "    ('scaler', StandardScaler())])\n",
    "\n",
    "categorical_transformer = Pipeline(steps=[\n",
    "    ('onehot', OneHotEncoder(handle_unknown='ignore'))])\n",
    "\n",
    "preprocessor = ColumnTransformer(\n",
    "    transformers=[\n",
    "        ('num', numeric_transformer, numeric_features),\n",
    "        ('cat', categorical_transformer, categorical_features)])\n",
    "\n",
    "# Define the model\n",
    "model = Pipeline(steps=[('preprocessor', preprocessor),\n",
    "                        ('regressor', LinearRegression())])\n",
    "\n",
    "# Train the model\n",
    "model.fit(X_train, y_train)\n",
    "\n",
    "# Make predictions\n",
    "y_pred = model.predict(X_test)\n",
    "\n",
    "# Evaluate the model\n",
    "mse = mean_squared_error(y_test, y_pred)\n",
    "print(f'Mean Squared Error: {mse}')\n",
    "\n",
    "# For better interpretation, print the coefficients\n",
    "if isinstance(model.named_steps['regressor'], LinearRegression):\n",
    "    print(\"Coefficients: \", model.named_steps['regressor'].coef_)\n"
   ]
  },
  {
   "cell_type": "code",
   "execution_count": 9,
   "id": "36e627a7",
   "metadata": {},
   "outputs": [
    {
     "name": "stdout",
     "output_type": "stream",
     "text": [
      "Enter the area in square feet: 100\n",
      "Enter the number of bedrooms: 3\n",
      "Enter the number of bathrooms: 2\n",
      "Enter the location: mumbai\n",
      "The predicted price for a house with area 100.0 sq ft, 3 bedrooms, 2 bathrooms in mumbai is: 3364874.5519713317\n"
     ]
    }
   ],
   "source": [
    "import pandas as pd\n",
    "import numpy as np\n",
    "\n",
    "# Load the trained model and preprocessor\n",
    "import joblib\n",
    "joblib.dump(model, 'house_price_model.pkl')\n",
    "\n",
    "# Load the model\n",
    "model = joblib.load('house_price_model.pkl')\n",
    "\n",
    "# Function to predict house prices\n",
    "def predict_price(area, bedrooms, bathrooms, location):\n",
    "    input_data = pd.DataFrame({\n",
    "        'area': [area],\n",
    "        'bedrooms': [bedrooms],\n",
    "        'bathrooms': [bathrooms],\n",
    "        'location': [location]\n",
    "    })\n",
    "    predicted_price = model.predict(input_data)\n",
    "    return predicted_price[0]\n",
    "\n",
    "# User input\n",
    "area = float(input(\"Enter the area in square feet: \"))\n",
    "bedrooms = int(input(\"Enter the number of bedrooms: \"))\n",
    "bathrooms = int(input(\"Enter the number of bathrooms: \"))\n",
    "location = input(\"Enter the location: \")\n",
    "\n",
    "# Predict the price\n",
    "predicted_price = predict_price(area, bedrooms, bathrooms, location)\n",
    "print(f\"The predicted price for a house with area {area} sq ft, {bedrooms} bedrooms, {bathrooms} bathrooms in {location} is: {predicted_price}\")\n"
   ]
  },
  {
   "cell_type": "code",
   "execution_count": null,
   "id": "9c96ed03",
   "metadata": {},
   "outputs": [],
   "source": []
  }
 ],
 "metadata": {
  "kernelspec": {
   "display_name": "Python 3 (ipykernel)",
   "language": "python",
   "name": "python3"
  },
  "language_info": {
   "codemirror_mode": {
    "name": "ipython",
    "version": 3
   },
   "file_extension": ".py",
   "mimetype": "text/x-python",
   "name": "python",
   "nbconvert_exporter": "python",
   "pygments_lexer": "ipython3",
   "version": "3.11.5"
  }
 },
 "nbformat": 4,
 "nbformat_minor": 5
}
