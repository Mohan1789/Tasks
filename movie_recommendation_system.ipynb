{
 "cells": [
  {
   "cell_type": "code",
   "execution_count": 1,
   "id": "936aaf85",
   "metadata": {},
   "outputs": [],
   "source": [
    "import pandas as pd\n",
    "import numpy as np\n",
    "from sklearn.model_selection import train_test_split\n",
    "from sklearn.metrics import mean_squared_error\n",
    "from sklearn.decomposition import TruncatedSVD\n"
   ]
  },
  {
   "cell_type": "code",
   "execution_count": 2,
   "id": "e8f1826b",
   "metadata": {},
   "outputs": [],
   "source": [
    "\n",
    "# Load the dataset\n",
    "df = pd.read_csv('indian_movies_ratings.csv')\n",
    "\n",
    "# Create a pivot table\n",
    "pivot_table = df.pivot_table(index='user_id', columns='movie_id', values='rating')\n",
    "\n",
    "# Fill NaN values with 0 (implicit feedback approach)\n",
    "pivot_table_filled = pivot_table.fillna(0)\n",
    "\n",
    "# Convert to numpy array\n",
    "ratings_matrix = pivot_table_filled.to_numpy()\n"
   ]
  },
  {
   "cell_type": "code",
   "execution_count": 3,
   "id": "9beea0b5",
   "metadata": {},
   "outputs": [],
   "source": [
    "# Train-test split (Here we split indices instead of the matrix directly)\n",
    "train_indices, test_indices = train_test_split(range(ratings_matrix.shape[0]), test_size=0.2, random_state=42)\n",
    "train_data = ratings_matrix[train_indices, :]\n",
    "test_data = ratings_matrix[test_indices, :]\n",
    "\n",
    "# Apply matrix factorization using SVD\n",
    "n_factors = min(10, ratings_matrix.shape[1])  # Ensure n_factors <= number of features (movies)\n",
    "svd = TruncatedSVD(n_components=n_factors)\n",
    "train_svd = svd.fit_transform(train_data)\n",
    "test_svd = svd.transform(test_data)\n",
    "\n",
    "# Reconstruct the ratings matrix\n",
    "predicted_ratings = np.dot(train_svd, svd.components_)\n"
   ]
  },
  {
   "cell_type": "code",
   "execution_count": 4,
   "id": "13e5fee8",
   "metadata": {},
   "outputs": [
    {
     "name": "stdout",
     "output_type": "stream",
     "text": [
      "RMSE: 1.018746842170023e-15\n"
     ]
    }
   ],
   "source": [
    "# Evaluate the model\n",
    "def get_rmse(actual, predicted):\n",
    "    # Only consider non-zero values in actual ratings\n",
    "    mask = actual != 0\n",
    "    return np.sqrt(mean_squared_error(actual[mask], predicted[mask]))\n",
    "\n",
    "# Compute RMSE\n",
    "rmse = get_rmse(train_data, predicted_ratings)\n",
    "print(f'RMSE: {rmse}')\n"
   ]
  },
  {
   "cell_type": "code",
   "execution_count": 5,
   "id": "f8237e83",
   "metadata": {},
   "outputs": [
    {
     "name": "stdout",
     "output_type": "stream",
     "text": [
      "User 1 top recommendations:\n",
      "\tMovie: Dangal, Predicted Rating: 5.000000000000001\n",
      "\tMovie: 3 Idiots, Predicted Rating: 5.000000000000001\n",
      "\tMovie: Barfi!, Predicted Rating: 5.0\n",
      "\tMovie: Dil Chahta Hai, Predicted Rating: 5.0\n",
      "\tMovie: Pather Panchali, Predicted Rating: 3.9999999999999996\n",
      "\tMovie: Sholay, Predicted Rating: 3.9999999999999996\n",
      "\tMovie: Gully Boy, Predicted Rating: 3.0000000000000004\n",
      "\tMovie: Lagaan, Predicted Rating: 2.0000000000000018\n",
      "\tMovie: Bajrangi Bhaijaan, Predicted Rating: 1.9999999999999993\n",
      "\tMovie: Kabhi Khushi Kabhie Gham, Predicted Rating: 1.000000000000001\n"
     ]
    }
   ],
   "source": [
    "# Function to get top N recommendations for each user\n",
    "def get_top_n_recommendations(predicted_ratings, user_id, movie_titles, movie_ids, n=10):\n",
    "    # Get and sort the user's predicted ratings\n",
    "    user_ratings = predicted_ratings[user_id - 1]\n",
    "    sorted_ratings_idx = np.argsort(user_ratings)[::-1]\n",
    "\n",
    "    # Get the top N movie IDs\n",
    "    top_n_movie_ids = sorted_ratings_idx[:n]\n",
    "    top_n_movie_ratings = user_ratings[top_n_movie_ids]\n",
    "\n",
    "    # Create a list of (movie_id, predicted_rating, title)\n",
    "    recommendations = [\n",
    "        (movie_ids[movie_id], rating, movie_titles[movie_ids[movie_id]]) \n",
    "        for movie_id, rating in zip(top_n_movie_ids, top_n_movie_ratings)\n",
    "    ]\n",
    "\n",
    "    return recommendations\n",
    "\n",
    "# Create a dictionary to map movie IDs to movie titles\n",
    "movie_titles = df[['movie_id', 'title']].drop_duplicates().set_index('movie_id')['title'].to_dict()\n",
    "\n",
    "# Create a list of movie IDs\n",
    "movie_ids = pivot_table.columns.to_list()\n",
    "\n",
    "# Get the top 10 movie recommendations for the first user\n",
    "user_id = 1\n",
    "top_n_recommendations = get_top_n_recommendations(predicted_ratings, user_id, movie_titles, movie_ids, n=10)\n",
    "\n",
    "# Print the recommendations\n",
    "print(f\"User {user_id} top recommendations:\")\n",
    "for movie_id, rating, title in top_n_recommendations:\n",
    "    print(f\"\\tMovie: {title}, Predicted Rating: {rating}\")\n"
   ]
  },
  {
   "cell_type": "code",
   "execution_count": null,
   "id": "1146235b",
   "metadata": {},
   "outputs": [],
   "source": []
  }
 ],
 "metadata": {
  "kernelspec": {
   "display_name": "Python 3 (ipykernel)",
   "language": "python",
   "name": "python3"
  },
  "language_info": {
   "codemirror_mode": {
    "name": "ipython",
    "version": 3
   },
   "file_extension": ".py",
   "mimetype": "text/x-python",
   "name": "python",
   "nbconvert_exporter": "python",
   "pygments_lexer": "ipython3",
   "version": "3.11.5"
  }
 },
 "nbformat": 4,
 "nbformat_minor": 5
}
